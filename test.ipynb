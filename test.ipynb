{
 "cells": [
  {
   "cell_type": "code",
   "execution_count": 1,
   "metadata": {},
   "outputs": [
    {
     "name": "stdout",
     "output_type": "stream",
     "text": [
      "Private configuration private.private_config.yaml does not exist; no problem if running in sim mode\n",
      "No datapaths provided for .csv, will use defaults  (may break in production, should be fine in sim)\n",
      "No datapaths provided for .csv, will use defaults  (may break in production, should be fine in sim)\n",
      "No datapaths provided for .csv, will use defaults  (may break in production, should be fine in sim)\n",
      "No datapaths provided for .csv, will use defaults  (may break in production, should be fine in sim)\n",
      "No datapaths provided for .csv, will use defaults  (may break in production, should be fine in sim)\n"
     ]
    },
    {
     "data": {
      "text/plain": [
       "csvFuturesSimData object with 123 instruments"
      ]
     },
     "execution_count": 1,
     "metadata": {},
     "output_type": "execute_result"
    }
   ],
   "source": [
    "from sysdata.sim.csv_futures_sim_data import csvFuturesSimData\n",
    "data = csvFuturesSimData()\n",
    "data"
   ]
  },
  {
   "cell_type": "code",
   "execution_count": 3,
   "metadata": {},
   "outputs": [
    {
     "data": {
      "text/plain": [
       "index\n",
       "1972-10-18 23:00:00    686.50\n",
       "1972-10-19 23:00:00    686.75\n",
       "1972-10-20 23:00:00    688.00\n",
       "1972-10-23 23:00:00    687.25\n",
       "1972-10-24 23:00:00    688.50\n",
       "                        ...  \n",
       "2021-11-29 23:00:00    556.25\n",
       "2021-11-30 14:30:00    547.00\n",
       "2021-11-30 15:00:00    545.25\n",
       "2021-11-30 16:00:00    544.25\n",
       "2021-11-30 17:00:00    543.00\n",
       "Name: price, Length: 34769, dtype: float64"
      ]
     },
     "execution_count": 3,
     "metadata": {},
     "output_type": "execute_result"
    }
   ],
   "source": [
    "data.get_backadjusted_futures_price('CORN')"
   ]
  },
  {
   "cell_type": "code",
   "execution_count": null,
   "metadata": {},
   "outputs": [],
   "source": []
  }
 ],
 "metadata": {
  "interpreter": {
   "hash": "3f8dd1bc98c3114736e34958e7fa6ce6695cd6b07e7e88d1746b4375b3c22689"
  },
  "kernelspec": {
   "display_name": "Python 3.8.8 64-bit ('FuturesEnv': venv)",
   "language": "python",
   "name": "python3"
  },
  "language_info": {
   "codemirror_mode": {
    "name": "ipython",
    "version": 3
   },
   "file_extension": ".py",
   "mimetype": "text/x-python",
   "name": "python",
   "nbconvert_exporter": "python",
   "pygments_lexer": "ipython3",
   "version": "3.8.8"
  },
  "orig_nbformat": 4
 },
 "nbformat": 4,
 "nbformat_minor": 2
}
